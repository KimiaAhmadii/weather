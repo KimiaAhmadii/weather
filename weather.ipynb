{
 "cells": [
  {
   "cell_type": "code",
   "execution_count": 16,
   "metadata": {},
   "outputs": [
    {
     "data": {
      "text/plain": [
       "301.85"
      ]
     },
     "execution_count": 16,
     "metadata": {},
     "output_type": "execute_result"
    }
   ],
   "source": [
    "import requests,json\n",
    "\n",
    "api= \"9adced7ddff5c6dc7f031455d3dec00e\"\n",
    "\n",
    "site_address=\"http://api.openweathermap.org/data/2.5/weather?\"\n",
    "\n",
    "city = input(\"add city:\")\n",
    "\n",
    "final_weather = site_address  + \"appid=\" +api+ \"&q=\" + city+ \"&units= meteric\"\n",
    "\n",
    "response = requests.get(final_weather)\n",
    "\n",
    "k = response.json()\n",
    "k['main']['temp']\n"
   ]
  }
 ],
 "metadata": {
  "kernelspec": {
   "display_name": ".venv",
   "language": "python",
   "name": "python3"
  },
  "language_info": {
   "codemirror_mode": {
    "name": "ipython",
    "version": 3
   },
   "file_extension": ".py",
   "mimetype": "text/x-python",
   "name": "python",
   "nbconvert_exporter": "python",
   "pygments_lexer": "ipython3",
   "version": "3.8.8"
  }
 },
 "nbformat": 4,
 "nbformat_minor": 2
}
